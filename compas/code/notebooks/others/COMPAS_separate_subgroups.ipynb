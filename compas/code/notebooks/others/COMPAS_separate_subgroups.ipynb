{
 "cells": [
  {
   "cell_type": "markdown",
   "metadata": {},
   "source": [
    "In this notebook we look at the subgroups FP, FN, TP/N wrt. is_recid. To that end, we train a model for each option, trying to predict subgroup."
   ]
  },
  {
   "cell_type": "code",
   "execution_count": 20,
   "metadata": {
    "scrolled": true
   },
   "outputs": [
    {
     "name": "stdout",
     "output_type": "stream",
     "text": [
      "The autoreload extension is already loaded. To reload it, use:\n",
      "  %reload_ext autoreload\n"
     ]
    }
   ],
   "source": [
    "%load_ext autoreload\n",
    "%autoreload 2\n",
    "import numpy as np\n",
    "import os\n",
    "import sys\n",
    "import copy\n",
    "import torch\n",
    "import pandas as pd\n",
    "import matplotlib\n",
    "from enum import Enum\n",
    "from tqdm import tqdm\n",
    "from collections import OrderedDict \n",
    "%matplotlib inline\n",
    "from matplotlib import pyplot as plt\n",
    "import matplotlib.lines as mlines\n",
    "import matplotlib.transforms as mtransforms\n",
    "import seaborn as sns\n",
    "from sklearn.metrics import confusion_matrix\n",
    "from sklearn import svm, preprocessing, tree, ensemble\n",
    "from sklearn.metrics import mean_squared_error\n",
    "\n",
    "# Don't truncate column lists\n",
    "pd.options.display.max_columns = None\n",
    "\n",
    "# Add code path to look for files to import\n",
    "code_path = os.path.abspath('..')\n",
    "base_path = os.path.join(code_path, '..')\n",
    "if code_path not in sys.path:\n",
    "    sys.path.append(code_path)\n",
    "    \n",
    "import ml_utils\n",
    "import plot_helpers\n",
    "import process_data\n",
    "from models import ModelType\n",
    "from train import fit_any\n"
   ]
  },
  {
   "cell_type": "markdown",
   "metadata": {},
   "source": [
    "## Dataset and Preprocessing"
   ]
  },
  {
   "cell_type": "code",
   "execution_count": 21,
   "metadata": {
    "scrolled": true
   },
   "outputs": [
    {
     "name": "stdout",
     "output_type": "stream",
     "text": [
      "use iterative marker...\n",
      "done with setting up the data set...\n"
     ]
    }
   ],
   "source": [
    "dataset = \"_reduced_size\"\n",
    "\n",
    "## Dataset and Preprocessing\n",
    "data = process_data.Data_set(base_path, dataset, overwrite=False)\n",
    "data.setup_data(cutoff = 4, cuttype = 'decile_score', min_val=0, max_val=1, strat=None, variable_dependent=False)\n",
    "\n",
    "X_train, X_val, X_test, y_train, y_val, y_test = data.select_data(\n",
    "                    #y_to_X = ['Risk of Recidivism_decile_score/10', 'Risk of Recidivism_raw_score','Risk of Violence_decile_score/10', 'Risk of Violence_raw_score', ]\n",
    "                     y_to_X = [],#['Risk of Violence_decile_score/10']#, 'Risk of Violence_raw_score', ]\n",
    "                    )\n",
    "\n",
    "to_drop = ['Risk of Recidivism_score_text', 'Risk of Violence_score_text', 'Risk of Failure to Appear_score_text']\n",
    "y_train.drop(labels=to_drop, axis = 1, inplace=True)\n",
    "y_val.drop(labels=to_drop, axis = 1, inplace=True)\n",
    "y_test.drop(labels=to_drop, axis = 1, inplace=True)\n",
    "\n",
    "#do_drop_X = ['recid_corr', 'recid_violent_corr', 'custody_days_jail', 'custody_days_jail_viol', 'jail_sentences', 'jail_sentences_viol', 'custody_days_prison', 'prison_sentences', 'custody_days_prison_viol', 'prison_sentences_viol']\n",
    "#X_train.drop(labels=do_drop_X, axis = 1, inplace=True)\n",
    "#X_val.drop(labels=do_drop_X, axis = 1, inplace=True)\n",
    "#X_test.drop(labels=do_drop_X, axis = 1, inplace=True)"
   ]
  },
  {
   "cell_type": "code",
   "execution_count": 22,
   "metadata": {},
   "outputs": [
    {
     "data": {
      "text/plain": [
       "Index(['offenses_within_30', 'p_felony_count_person', 'p_misdem_count_person',\n",
       "       'p_charge_violent', 'p_current_age', 'p_age_first_offense',\n",
       "       'p_juv_fel_count', 'p_felprop_violarrest', 'p_murder_arrest',\n",
       "       'p_felassault_arrest', 'p_misdemassault_arrest', 'p_sex_arrest',\n",
       "       'p_weapons_arrest', 'p_n_on_probation', 'p_current_on_probation',\n",
       "       'p_prob_revoke', 'p_arrest', 'p_jail30', 'p_prison30', 'p_prison',\n",
       "       'p_probation', 'is_misdem', 'race_black', 'race_white', 'race_hispanic',\n",
       "       'race_asian', 'race_native', 'is_married', 'is_divorced', 'is_widowed',\n",
       "       'is_separated', 'is_sig_other', 'is_marit_unknown', 'is_male'],\n",
       "      dtype='object')"
      ]
     },
     "execution_count": 22,
     "metadata": {},
     "output_type": "execute_result"
    }
   ],
   "source": [
    "X_train.columns"
   ]
  },
  {
   "cell_type": "code",
   "execution_count": 23,
   "metadata": {},
   "outputs": [
    {
     "name": "stdout",
     "output_type": "stream",
     "text": [
      "3239\n",
      "1080\n",
      "1440\n"
     ]
    }
   ],
   "source": [
    "print(len(X_train))\n",
    "print(len(X_val))\n",
    "print(len(X_test))"
   ]
  },
  {
   "cell_type": "code",
   "execution_count": 24,
   "metadata": {
    "scrolled": true
   },
   "outputs": [],
   "source": [
    "def visualize_relevance(labels, relevance, target_label):\n",
    "    plt.figure(figsize=(8,8))\n",
    "    plt.barh(labels, relevance, height=1)\n",
    "    plt.title(target_label)\n",
    "    plt.xlabel(\"Linear model coefficients\");\n",
    "    plt.show()\n",
    "    \n",
    "def visualize_model(model_type: ModelType, model, X_train):\n",
    "    if model_type == ModelType.NN:\n",
    "        pass\n",
    "    elif model_type == ModelType.SVM:\n",
    "        visualize_relevance(X_train.columns, model.coef_[0], target)\n",
    "        \n",
    "    elif model_type == ModelType.DT:\n",
    "        plt.figure(figsize=(14,14))\n",
    "        tree.plot_tree(model, feature_names=X_train.columns, filled=True)\n",
    "        plt.show()\n",
    "        \n",
    "    elif model_type == ModelType.RF:\n",
    "        visualize_relevance(X_train.columns, model.feature_importances_, target)"
   ]
  },
  {
   "cell_type": "markdown",
   "metadata": {},
   "source": [
    "## Model Training on the subgroups "
   ]
  },
  {
   "cell_type": "code",
   "execution_count": 25,
   "metadata": {},
   "outputs": [],
   "source": [
    "keys = ['group_recid']\n",
    "subkeys = ['FP']#, 'FN']\n",
    "subset = X_train.columns\n",
    "#subset = ['p_misdem_count_person', 'p_current_age', 'p_felassault_arrest', 'p_arrest', 'is_male']#['Risk of Violence_decile_score/10']\n",
    "restrict_dataset = True\n",
    "weighting = False"
   ]
  },
  {
   "cell_type": "code",
   "execution_count": 26,
   "metadata": {},
   "outputs": [],
   "source": [
    "configs = {\n",
    "    ModelType.NN: {\n",
    "        \"activation\": torch.nn.ReLU,\n",
    "        \"n_layers\": 4,\n",
    "        \"n_hidden\": 30,\n",
    "        \"batch_size\": 256,\n",
    "        \"lr\": 0.01,\n",
    "        \"weight_decay\": 0.0,\n",
    "        \"n_epochs\": 100\n",
    "        },\n",
    "    ModelType.DT: {\n",
    "        \"criterion\": \"gini\",\n",
    "        \"max_depth\": 3\n",
    "    },\n",
    "    ModelType.RF: {\n",
    "        \"n_estimators\": 100,\n",
    "        \"criterion\": \"gini\",\n",
    "        \"max_depth\": 4\n",
    "    },\n",
    "    ModelType.SVM: {\n",
    "        \"penalty\": \"l2\",\n",
    "        \"C\": 1.,\n",
    "        \"dual\": False\n",
    "    }\n",
    "}"
   ]
  },
  {
   "cell_type": "code",
   "execution_count": 27,
   "metadata": {
    "scrolled": false
   },
   "outputs": [
    {
     "data": {
      "image/png": "[encoded data removed]",
      "text/plain": [
       "<Figure size 1008x1008 with 1 Axes>"
      ]
     },
     "metadata": {
      "needs_background": "light"
     },
     "output_type": "display_data"
    },
    {
     "name": "stdout",
     "output_type": "stream",
     "text": [
      "DT RMSE: 0.6139003678694415 correct: 0.6231263383297645 correct(rel): 0.6231263383297645\n",
      "group_recid_FP\n",
      "####################################################################################\n"
     ]
    }
   ],
   "source": [
    "model_types = [ModelType.DT]#[ModelType.SVM, ModelType.DT, ModelType.RF, ModelType.NN]\n",
    "errors_rmse = {m:{} for m in model_types}\n",
    "correct_frac = {m:{} for m in model_types}\n",
    "correct_frac_sub = {m:{} for m in model_types}\n",
    "y_val_predicted = {m:{} for m in model_types}\n",
    "y_test_predicted = {m:{} for m in model_types}\n",
    "y_test_predicted_t = {m:{} for m in model_types}\n",
    "error_reduction = {m:{} for m in model_types}\n",
    "\n",
    "# FP models\n",
    "for model_type in model_types:\n",
    "    models = {}\n",
    "    config = configs[model_type]\n",
    "    \n",
    "    for key in keys:\n",
    "        for subkey in subkeys:\n",
    "            target = key + '_' + subkey\n",
    "            original_target_name = target\n",
    "\n",
    "            data_subkey = key + ('_P' if 'P' in subkey else '_N')\n",
    "            idcs_tr = y_train[data_subkey]\n",
    "            idcs_te = y_test[data_subkey]\n",
    "            idcs = y_val[data_subkey]\n",
    "            if restrict_dataset:\n",
    "                X_train_sub = X_train[idcs_tr]\n",
    "                y_train_sub = y_train[idcs_tr] \n",
    "                X_val_sub = X_val[idcs]\n",
    "                y_val_sub = y_val[idcs]  \n",
    "                X_test_sub = X_test[idcs_te]\n",
    "                y_test_sub = y_test[idcs_te] \n",
    "            else:\n",
    "                X_train_sub = X_train\n",
    "                y_train_sub = y_train \n",
    "                X_val_sub = X_val\n",
    "                y_val_sub = y_val\n",
    "                X_test_sub = X_test\n",
    "                y_test_sub = y_test\n",
    "                \n",
    "            model, y_val_predicted_pos, _ = fit_any(model_type, X_train_sub[subset], X_val_sub[subset], y_train_sub, y_val_sub, target, config, weighting)\n",
    "            _, y_test_predicted_pos, _ = fit_any(model_type, X_train_sub[subset], X_test_sub[subset], y_train_sub, y_test_sub, target, config, weighting)\n",
    "\n",
    "            models[target] = model\n",
    "            visualize_model(model_type, model, X_train_sub[subset])\n",
    "\n",
    "            y_val_predicted[model_type][target] = y_val_predicted_pos\n",
    "            y_test_predicted[model_type][target] = y_test_predicted_pos\n",
    "            y_test_predicted_t[model_type][target] = np.array([1 if y > (0 if model_type == ModelType.NN else 0.5) else 0 for y in y_test_predicted[model_type][target]])\n",
    "            y_val_predicted_t = np.array([1 if y > (0 if model_type == ModelType.NN else 0.5) else 0 for y in y_val_predicted[model_type][target]])\n",
    "            \n",
    "            # calculate error terms\n",
    "            rmse = mean_squared_error(y_val_sub[target], y_val_predicted_pos, squared=False)\n",
    "            errors_rmse[model_type][target] = rmse\n",
    "            correct = np.array([int(y_val_sub[target][i] == y_val_predicted_t[i]) for i in range(len(y_val_predicted_t))])\n",
    "            correct_frac[model_type][target] = sum(correct)/len(correct)\n",
    "            if restrict_dataset:\n",
    "                correct_frac_sub[model_type][target] =  correct_frac[model_type][target]\n",
    "                error_reduction[model_type][target] = sum(correct* y_val_predicted_t * y_val[idcs][target]) # relevant positive correct\n",
    "                error_reduction[model_type][target] += sum(np.invert(correct) * y_val_predicted_t * (~y_val[idcs][target])) # relevant positive false\n",
    "            else:\n",
    "                print(\"#correct = %d, all = %d\" %(sum(correct[idcs]), sum(idcs)))\n",
    "                correct_frac_sub[model_type][target] = sum(correct[idcs])/sum(idcs)\n",
    "                error_reduction[model_type][target] = sum(correct[idcs] * y_val_predicted_t[idcs] * y_val[idcs][target]) # relevant positive correct\n",
    "                error_reduction[model_type][target] += sum(np.invert(correct[idcs]) * y_val_predicted_t[idcs] * (~y_val[idcs][target])) # relevant negative false\n",
    "\n",
    "            print(model_type.name, \"RMSE:\", rmse, \"correct:\", correct_frac[model_type][target], \"correct(rel):\", correct_frac_sub[model_type][target])\n",
    "            print(target)\n",
    "            print(\"####################################################################################\")\n"
   ]
  },
  {
   "cell_type": "code",
   "execution_count": 28,
   "metadata": {},
   "outputs": [
    {
     "name": "stdout",
     "output_type": "stream",
     "text": [
      "The binary tree structure has 15 nodes.:\n",
      "\n",
      "node=0: node 1 if p_misdem_count_person <= 2.4999999571591616 else node 8.\n",
      "\tnode=1: node 2 if p_age_first_offense <= 20.50000062584877 else node 5.\n",
      "\t\tnode=2: node 3 if is_male <= 0.5 else node 4.\n",
      "\t\t\tnode=3 is a leaf node.\n",
      "\t\t\tnode=4 is a leaf node.\n",
      "\t\tnode=5: node 6 if p_felony_count_person <= 1.4999999315477908 else node 7.\n",
      "\t\t\tnode=6 is a leaf node.\n",
      "\t\t\tnode=7 is a leaf node.\n",
      "\tnode=8: node 9 if p_current_age <= 32.259740114212036 else node 12.\n",
      "\t\tnode=9: node 10 if p_misdem_count_person <= 4.499999936670065 else node 11.\n",
      "\t\t\tnode=10 is a leaf node.\n",
      "\t\t\tnode=11 is a leaf node.\n",
      "\t\tnode=12: node 13 if p_misdem_count_person <= 9.499999850988388 else node 14.\n",
      "\t\t\tnode=13 is a leaf node.\n",
      "\t\t\tnode=14 is a leaf node.\n"
     ]
    }
   ],
   "source": [
    "# Adapted from https://scikit-learn.org/stable/auto_examples/tree/plot_unveil_tree_structure.html#sphx-glr-auto-examples-tree-plot-unveil-tree-structure-py\n",
    "\n",
    "clf = models[\"group_recid_FP\"]\n",
    "\n",
    "n_nodes = clf.tree_.node_count\n",
    "children_left = clf.tree_.children_left\n",
    "children_right = clf.tree_.children_right\n",
    "feature = clf.tree_.feature\n",
    "threshold = clf.tree_.threshold\n",
    "\n",
    "node_depth = np.zeros(shape=n_nodes, dtype=np.int64)\n",
    "is_leaves = np.zeros(shape=n_nodes, dtype=bool)\n",
    "stack = [(0, 0)]  # start with the root node id (0) and its depth (0)\n",
    "while len(stack) > 0:\n",
    "    # `pop` ensures each node is only visited once\n",
    "    node_id, depth = stack.pop()\n",
    "    node_depth[node_id] = depth\n",
    "\n",
    "    # If the left and right child of a node is not the same we have a split\n",
    "    # node\n",
    "    is_split_node = children_left[node_id] != children_right[node_id]\n",
    "    # If a split node, append left and right children and depth to `stack`\n",
    "    # so we can loop through them\n",
    "    if is_split_node:\n",
    "        stack.append((children_left[node_id], depth + 1))\n",
    "        stack.append((children_right[node_id], depth + 1))\n",
    "    else:\n",
    "        is_leaves[node_id] = True\n",
    "\n",
    "print(\"The binary tree structure has {n} nodes.:\\n\".format(n=n_nodes))\n",
    "for i in range(n_nodes):\n",
    "    if is_leaves[i]:\n",
    "        print(\"{space}node={node} is a leaf node.\".format(\n",
    "            space=node_depth[i] * \"\\t\", node=i))\n",
    "    else:\n",
    "        print(\"{space}node={node}: \"\n",
    "              \"node {left} if {feature} <= {threshold} \"\n",
    "              \"else node {right}.\".format(\n",
    "                  space=node_depth[i] * \"\\t\",\n",
    "                  node=i,\n",
    "                  left=children_left[i],\n",
    "                  feature=X_train_sub[subset].columns[feature[i]],\n",
    "                  threshold=data.min_vals[X_train_sub[subset].columns[feature[i]]] + threshold[i] * data.max_vals[X_train_sub[subset].columns[feature[i]]],\n",
    "                  right=children_right[i]))\n"
   ]
  },
  {
   "cell_type": "code",
   "execution_count": 29,
   "metadata": {},
   "outputs": [
    {
     "data": {
      "text/plain": [
       "array([ 2,  5, 33, -2, -2,  1, -2, -2,  4,  2, -2, -2,  2, -2, -2],\n",
       "      dtype=int64)"
      ]
     },
     "execution_count": 29,
     "metadata": {},
     "output_type": "execute_result"
    }
   ],
   "source": [
    "feature"
   ]
  },
  {
   "cell_type": "code",
   "execution_count": 30,
   "metadata": {},
   "outputs": [
    {
     "data": {
      "text/plain": [
       "Index(['offenses_within_30', 'p_felony_count_person', 'p_misdem_count_person',\n",
       "       'p_charge_violent', 'p_current_age', 'p_age_first_offense',\n",
       "       'p_juv_fel_count', 'p_felprop_violarrest', 'p_murder_arrest',\n",
       "       'p_felassault_arrest', 'p_misdemassault_arrest', 'p_sex_arrest',\n",
       "       'p_weapons_arrest', 'p_n_on_probation', 'p_current_on_probation',\n",
       "       'p_prob_revoke', 'p_arrest', 'p_jail30', 'p_prison30', 'p_prison',\n",
       "       'p_probation', 'is_misdem', 'race_black', 'race_white', 'race_hispanic',\n",
       "       'race_asian', 'race_native', 'is_married', 'is_divorced', 'is_widowed',\n",
       "       'is_separated', 'is_sig_other', 'is_marit_unknown', 'is_male'],\n",
       "      dtype='object')"
      ]
     },
     "execution_count": 30,
     "metadata": {},
     "output_type": "execute_result"
    }
   ],
   "source": [
    "X_train_sub[subset].columns"
   ]
  },
  {
   "cell_type": "code",
   "execution_count": 31,
   "metadata": {},
   "outputs": [
    {
     "data": {
      "text/plain": [
       "34"
      ]
     },
     "execution_count": 31,
     "metadata": {},
     "output_type": "execute_result"
    }
   ],
   "source": [
    "len(X_train_sub[subset].columns)"
   ]
  },
  {
   "cell_type": "code",
   "execution_count": 32,
   "metadata": {},
   "outputs": [
    {
     "data": {
      "text/plain": [
       "['p_misdem_count_person',\n",
       " 'p_age_first_offense',\n",
       " 'is_male',\n",
       " 'is_marit_unknown',\n",
       " 'is_marit_unknown',\n",
       " 'p_felony_count_person',\n",
       " 'is_marit_unknown',\n",
       " 'is_marit_unknown',\n",
       " 'p_current_age',\n",
       " 'p_misdem_count_person',\n",
       " 'is_marit_unknown',\n",
       " 'is_marit_unknown',\n",
       " 'p_misdem_count_person',\n",
       " 'is_marit_unknown',\n",
       " 'is_marit_unknown']"
      ]
     },
     "execution_count": 32,
     "metadata": {},
     "output_type": "execute_result"
    }
   ],
   "source": [
    "[X_train_sub[subset].columns[f] for f in feature]"
   ]
  },
  {
   "cell_type": "code",
   "execution_count": 33,
   "metadata": {},
   "outputs": [],
   "source": [
    "def print_dict(d, name=None):\n",
    "    if name is not None:\n",
    "        print(\"\\n------------\", name, \"------------\")\n",
    "    for k,v in d.items():\n",
    "        print(k)\n",
    "        for kk, vv in v.items():\n",
    "            print(\"\\t%s %.2f\" % (kk, vv))"
   ]
  },
  {
   "cell_type": "code",
   "execution_count": 34,
   "metadata": {},
   "outputs": [
    {
     "name": "stdout",
     "output_type": "stream",
     "text": [
      "\n",
      "------------ Total Error Reduction ------------\n",
      "ModelType.DT\n",
      "\tgroup_recid_FP 58.00\n",
      "\n",
      "------------ ACC ------------\n",
      "ModelType.DT\n",
      "\tgroup_recid_FP 0.62\n",
      "\n",
      "------------ ACC on relevant ------------\n",
      "ModelType.DT\n",
      "\tgroup_recid_FP 0.62\n"
     ]
    }
   ],
   "source": [
    "#print_dict(errors_rmse,\"RMSE\")\n",
    "print_dict(error_reduction,\"Total Error Reduction\")\n",
    "print_dict(correct_frac,\"ACC\")\n",
    "print_dict(correct_frac_sub,\"ACC on relevant\")"
   ]
  },
  {
   "cell_type": "markdown",
   "metadata": {},
   "source": [
    "### Local Relevance (NN)"
   ]
  },
  {
   "cell_type": "code",
   "execution_count": 35,
   "metadata": {},
   "outputs": [],
   "source": [
    "# Only works if NN is trained last, at the moment\n",
    "if False:\n",
    "    device = \"cpu\"\n",
    "\n",
    "    for c in y_train.columns:\n",
    "        if \"text\" in c or \"proPub\" in c:\n",
    "            y_train.drop(labels=c, axis = 1, inplace=True)\n",
    "            y_val.drop(labels=c, axis = 1, inplace=True)\n",
    "            y_test.drop(labels=c, axis = 1, inplace=True)\n",
    "\n",
    "    for model_type in model_types:  \n",
    "        if model_type == ModelType.NN:\n",
    "            for key in keys:\n",
    "                for subkey in subkeys:\n",
    "                    target = key + '_' + subkey\n",
    "                    print(target, model_type)\n",
    "                    model = models[target]\n",
    "                    expl_model = explain.make_explainable(copy.deepcopy(model)).to(device)\n",
    "\n",
    "                    loader = torch.utils.data.DataLoader(PandasDataset(X_val[subset], y_val), batch_size=1, shuffle=False)\n",
    "\n",
    "                    target_idx = list(y_val.columns).index(target)\n",
    "\n",
    "                    Rs = []\n",
    "                    ys = []\n",
    "                    y_hats = []\n",
    "                    n_examples = 5\n",
    "                    for x_i, (x, y) in enumerate(loader):\n",
    "                        y_hat = model(x).to(device)\n",
    "                        y_hats.append(y_hat)\n",
    "                        R = explain.grad(expl_model, x)[0,0].cpu().detach()\n",
    "                        Rs.append(R)\n",
    "                        ys.append(y[0,0])\n",
    "\n",
    "                        if x_i < n_examples:\n",
    "                            # Display an example explanation\n",
    "                            print(\"Example: Subject\", x_i)\n",
    "                            print(target, \"=\", float(y[0,0,target_idx]), \"\\t prediction =\", float(y_hat))\n",
    "                            ml_utils.visualize_relevance(X_val[subset].columns, R, target)\n",
    "                print(\"##############################################################\")"
   ]
  },
  {
   "cell_type": "code",
   "execution_count": 36,
   "metadata": {
    "scrolled": false
   },
   "outputs": [
    {
     "name": "stdout",
     "output_type": "stream",
     "text": [
      "ModelType.DT\n",
      "Column ratios: 1.38, 0.75\n"
     ]
    },
    {
     "data": {
      "image/png": "[encoded data removed]",
      "text/plain": [
       "<Figure size 432x288 with 1 Axes>"
      ]
     },
     "metadata": {},
     "output_type": "display_data"
    }
   ],
   "source": [
    "for model_type in model_types: \n",
    "    print(model_type)\n",
    "    for key in keys:\n",
    "        for subkey in subkeys:\n",
    "            target = key + '_' + subkey\n",
    "            cell_labels = [\"T\"+subkey[-1], subkey]\n",
    "            \n",
    "            data_subkey = key + ('_P' if 'P' in subkey else '_N')\n",
    "            idcs_te = y_test[data_subkey]\n",
    "            if restrict_dataset:\n",
    "                X_test_sub = X_test[idcs_te]\n",
    "                y_test_sub = y_test[idcs_te] \n",
    "            else:\n",
    "                X_test_sub = X_test\n",
    "                y_test_sub = y_test\n",
    "            \n",
    "            save = (model_type == ModelType.DT) and (subkey == \"FP\")\n",
    "            plot_helpers.one_confusion_matrix(y_test_sub[target], y_test_predicted_t[model_type][target], None, cell_labels, save=save, file_postfix=subkey)\n",
    "            #plot_helpers.confusion_matrices(keys, subkeys, y_val_predicted[model_type], y_val, (0 if model_type == ModelType.NN else 0.5), restrict_dataset=True)"
   ]
  },
  {
   "cell_type": "code",
   "execution_count": 37,
   "metadata": {},
   "outputs": [],
   "source": [
    "def calculate_stats(y, y_hat):\n",
    "    stats = {}\n",
    "    stats[\"tp\"] = sum([y_==1 and y_hat_==1 for (y_, y_hat_) in zip(y, y_hat)])\n",
    "    stats[\"fp\"] = sum([y_==0 and y_hat_==1 for (y_, y_hat_) in zip(y, y_hat)])\n",
    "    stats[\"tn\"] = sum([y_==0 and y_hat_==0 for (y_, y_hat_) in zip(y, y_hat)])\n",
    "    stats[\"fn\"] = sum([y_==1 and y_hat_==0 for (y_, y_hat_) in zip(y, y_hat)])\n",
    "    stats[\"prec\"] = 0 if ((stats[\"tp\"] + stats[\"fp\"]) == 0) else (stats[\"tp\"] / (stats[\"tp\"] + stats[\"fp\"]))\n",
    "    stats[\"rec\"] = 0 if ((stats[\"tp\"] + stats[\"fn\"]) == 0) else (stats[\"tp\"] / (stats[\"tp\"] + stats[\"fn\"]))\n",
    "    stats[\"tpr\"] = stats[\"rec\"]\n",
    "    stats[\"fpr\"] = 0 if ((stats[\"fp\"] + stats[\"tn\"]) == 0) else (stats[\"fp\"] / (stats[\"fp\"] + stats[\"tn\"]))\n",
    "    stats[\"tnr\"] = 1-stats[\"fpr\"]\n",
    "    stats[\"fnr\"] = 1-stats[\"tpr\"]\n",
    "    stats[\"acc\"] = (stats[\"tp\"] + stats[\"tn\"]) / (len(y))\n",
    "    #stats[\"f1\"] = 2 * (stats[\"prec\"] * stats[\"rec\"]) / (stats[\"prec\"] + stats[\"rec\"])\n",
    "    return stats"
   ]
  },
  {
   "cell_type": "code",
   "execution_count": 38,
   "metadata": {},
   "outputs": [
    {
     "name": "stdout",
     "output_type": "stream",
     "text": [
      "n samples: 3239\n",
      "n recid: 1184\n",
      "fraction recid: 0.3655449212719975\n",
      "tp: 710\n",
      "fp: 725\n",
      "tn: 1330\n",
      "fn: 474\n",
      "prec: 0.49477351916376305\n",
      "rec: 0.5996621621621622\n",
      "tpr: 0.5996621621621622\n",
      "fpr: 0.35279805352798055\n",
      "tnr: 0.6472019464720195\n",
      "fnr: 0.40033783783783783\n",
      "acc: 0.6298240197591849\n",
      "##################################\n",
      "n samples: 1080\n",
      "n recid: 381\n",
      "fraction recid: 0.3527777777777778\n",
      "tp: 233\n",
      "fp: 234\n",
      "tn: 465\n",
      "fn: 148\n",
      "prec: 0.4989293361884368\n",
      "rec: 0.6115485564304461\n",
      "tpr: 0.6115485564304461\n",
      "fpr: 0.33476394849785407\n",
      "tnr: 0.6652360515021459\n",
      "fnr: 0.38845144356955386\n",
      "acc: 0.6462962962962963\n",
      "##################################\n",
      "n samples: 1440\n",
      "n recid: 514\n",
      "fraction recid: 0.35694444444444445\n",
      "tp: 318\n",
      "fp: 328\n",
      "tn: 598\n",
      "fn: 196\n",
      "prec: 0.49226006191950467\n",
      "rec: 0.6186770428015564\n",
      "tpr: 0.6186770428015564\n",
      "fpr: 0.3542116630669546\n",
      "tnr: 0.6457883369330454\n",
      "fnr: 0.38132295719844356\n",
      "acc: 0.6361111111111111\n",
      "##################################\n"
     ]
    }
   ],
   "source": [
    "for y_ in [y_train, y_val, y_test]:\n",
    "    print(\"n samples:\", len(y_))\n",
    "    print(\"n recid:\", sum(y_[\"recid\"]))\n",
    "    print(\"fraction recid:\", sum(y_[\"recid\"]) / len(y_))\n",
    "    print(\"\\n\".join([k + \": \" + str(v) for k,v in calculate_stats(y_[\"recid\"], y_[\"group_recid_P\"]).items()]))\n",
    "    print(\"##################################\")"
   ]
  },
  {
   "cell_type": "code",
   "execution_count": 39,
   "metadata": {},
   "outputs": [],
   "source": [
    "def plot_ROC(stats_list, compas_stats=None, plot_acc=False, save=False, file_postfix=\"\"):\n",
    "    \"\"\"\n",
    "    Stats need to be passed in increasing order of FPR.\n",
    "    \"\"\"\n",
    "    \n",
    "    #Clean Stats of \"loops\"\n",
    "    loop = True\n",
    "    while loop:\n",
    "        for s_i, s in enumerate(stats_list):\n",
    "            if s_i > 0 and s[\"fpr\"] < stats_list[s_i-1][\"fpr\"]:\n",
    "                stats_list = stats_list[:s_i] + stats_list[s_i+1:]\n",
    "                break\n",
    "            if s_i == (len(stats_list)-1):\n",
    "                loop = False\n",
    "    \n",
    "    sns.set_style(\"ticks\")\n",
    "    sns.set_context(\"talk\")\n",
    "\n",
    "    acc = [s[\"acc\"] for s in stats_list]\n",
    "    tpr = [s[\"tpr\"] for s in stats_list]\n",
    "    fpr = [s[\"fpr\"] for s in stats_list]\n",
    "    \n",
    "    #plt.plot(fpr, tpr, color=\"blue\")\n",
    "    plt.step(fpr, tpr, where=\"post\", color=\"blue\")\n",
    "    ax = plt.gca()\n",
    "    \n",
    "    # Plot compas marker\n",
    "    if compas_stats is not None:\n",
    "        ax.scatter([compas_stats[\"fpr\"]], [compas_stats[\"tpr\"]], marker=\"x\", color=\"blue\", label=\"COMPAS\")\n",
    "    \n",
    "    # Plot accuracy\n",
    "    if plot_acc:\n",
    "        ax2 = ax.twinx()\n",
    "        ax2.plot(fpr, acc, color=\"orange\")\n",
    "        #ax2.step(fpr, acc, where=\"post\", color=\"orange\")\n",
    "        if compas_stats is not None:\n",
    "            ax2.scatter([compas_stats[\"fpr\"]], [compas_stats[\"acc\"]], marker=\"x\", color=\"orange\", label=\"COMPAS\")\n",
    "        ax2.set_ylabel(\"Accuracy\", color=\"orange\")\n",
    "        ax.set_ylabel(\"True Positive Rate\", color=\"blue\")\n",
    "    else:\n",
    "        ax.set_ylabel(\"True Positive Rate\")\n",
    "\n",
    "    minmax = min(max(tpr), max(fpr))*1.05\n",
    "    ax.plot([0,minmax],[0,minmax], linestyle=\"dashed\", linewidth=1, color='gray', label=\"Random\")\n",
    "    ax.set_xlabel(\"False Positive Rate\")\n",
    "    plt.xlim([0,max(fpr)*1.05])\n",
    "    plt.ylim([0,(max(tpr+acc) if plot_acc else max(tpr))*1.05])\n",
    "    ax.figure.legend(bbox_to_anchor=(0., 1.02, 1., .102), loc='lower left', ncol=3, mode=\"expand\", borderaxespad=0.)\n",
    "    # ax.figure.legend(bbox_to_anchor = (0.8, 0.4))\n",
    "    \n",
    "    plt.tight_layout()\n",
    "    \n",
    "    if save:\n",
    "        plt.savefig(\"ROC_%s.eps\" % file_postfix, dpi=300, bbox_inches='tight')\n",
    "    \n",
    "    plt.show()"
   ]
  },
  {
   "cell_type": "markdown",
   "metadata": {},
   "source": [
    "## ROC of bes model"
   ]
  },
  {
   "cell_type": "code",
   "execution_count": 40,
   "metadata": {
    "scrolled": false
   },
   "outputs": [
    {
     "name": "stdout",
     "output_type": "stream",
     "text": [
      "Unweighted {'tp': 160, 'fp': 116, 'tn': 810, 'fn': 354, 'prec': 0.5797101449275363, 'rec': 0.311284046692607, 'tpr': 0.311284046692607, 'fpr': 0.12526997840172785, 'tnr': 0.8747300215982722, 'fnr': 0.688715953307393, 'acc': 0.6736111111111112} \n",
      "\n"
     ]
    },
    {
     "name": "stderr",
     "output_type": "stream",
     "text": [
      "The PostScript backend does not support transparency; partially transparent artists will be rendered opaque.\n",
      "The PostScript backend does not support transparency; partially transparent artists will be rendered opaque.\n"
     ]
    },
    {
     "data": {
      "image/png": "[encoded data removed]",
      "text/plain": [
       "<Figure size 432x288 with 2 Axes>"
      ]
     },
     "metadata": {},
     "output_type": "display_data"
    }
   ],
   "source": [
    "model_type = ModelType.DT\n",
    "weights = [0.01] + [i*0.15 for i in range(1,25)]\n",
    "config = configs[model_type]\n",
    "\n",
    "for key in keys:\n",
    "    true = y_test[key.split(\"_\")[-1]]\n",
    "    for subkey in subkeys:\n",
    "        target = key + '_' + subkey\n",
    "        compas_pred_key = key + '_P'\n",
    "        data_subkey = key + '_' + subkey[-1]\n",
    "        idcs_tr = y_train[data_subkey]\n",
    "        idcs_val = y_val[data_subkey]\n",
    "        idcs_test = y_test[data_subkey]\n",
    "        if True:\n",
    "            X_train_sub = X_train[idcs_tr]\n",
    "            y_train_sub = y_train[idcs_tr] \n",
    "            X_val_sub = X_val[idcs_val]\n",
    "            y_val_sub = y_val[idcs_val]  \n",
    "            X_test_sub = X_test[idcs_test]\n",
    "            y_test_sub = y_test[idcs_test] \n",
    "        else:\n",
    "            X_train_sub = X_train\n",
    "            y_train_sub = y_train \n",
    "            X_val_sub = X_val\n",
    "            y_val_sub = y_val\n",
    "            X_test_sub = X_test\n",
    "            y_test_sub = y_test\n",
    "            \n",
    "        if subkey.endswith(\"FP\"):\n",
    "            weights=sorted(weights, reverse=True)\n",
    "        else:\n",
    "            weights=sorted(weights)\n",
    "\n",
    "\n",
    "        # Without weighting:\n",
    "        model, y_test_predicted_pos, _ = fit_any(model_type, X_train_sub[subset], X_test_sub[subset], y_train_sub, y_test_sub, target, config, None)\n",
    "        y_test_predicted_t = np.array([1 if y > (0 if model_type == ModelType.NN else 0.5) else 0 for y in y_test_predicted_pos])\n",
    "        if True:\n",
    "            # Calc for whole set\n",
    "            augmented = copy.deepcopy(y_test[compas_pred_key])\n",
    "            if subkey[-1] == \"P\":\n",
    "                augmented[idcs_test] = pd.Series([(not y_test_predicted_t[p]) * y_test_sub[compas_pred_key][p] for p in range(len(y_test_sub))], index=y_test_sub.index)\n",
    "            else: #FN\n",
    "                augmented[idcs_test] = pd.Series([y_test_predicted_t[p] * (not y_test_sub[compas_pred_key][p]) for p in range(len(y_test_sub))], index=y_test_sub.index)\n",
    "            print(\"Unweighted\", calculate_stats(true, augmented),\"\\n\")\n",
    "        else:\n",
    "            # Calc for Positive only\n",
    "            print(\"Unweighted\", calculate_stats(y_test_sub[target], y_test_predicted_t),\"\\n\")\n",
    "        \n",
    "        # Varying weights\n",
    "        stats_list = []\n",
    "        for w in weights:\n",
    "            model, y_test_predicted_pos, _ = fit_any(model_type, X_train_sub[subset], X_test_sub[subset], y_train_sub, y_test_sub, target, config, w)\n",
    "            y_test_predicted_t = np.array([1 if y > (0 if model_type == ModelType.NN else 0.5) else 0 for y in y_test_predicted_pos])\n",
    "\n",
    "            if True:\n",
    "                # Calc for whole set\n",
    "                augmented = copy.deepcopy(y_test[compas_pred_key])\n",
    "                if subkey[-1] == \"P\":\n",
    "                    augmented[idcs_test] = pd.Series([(not y_test_predicted_t[p]) * y_test_sub[compas_pred_key][p] for p in range(len(y_test_sub))], index=y_test_sub.index)\n",
    "                else: #FN\n",
    "                    augmented[idcs_test] = pd.Series([y_test_predicted_t[p] * (not y_test_sub[compas_pred_key][p]) for p in range(len(y_test_sub))], index=y_test_sub.index)\n",
    "\n",
    "                stats_list.append(calculate_stats(true, augmented))\n",
    "            else:\n",
    "                # Calc for Positive only\n",
    "                stats_list.append(calculate_stats(y_test_sub[target], y_test_predicted_t))\n",
    "                \n",
    "            #print(w, stats_list[-1])\n",
    "            \n",
    "        plot_ROC(stats_list, compas_stats=calculate_stats(y_test['recid'], y_test[compas_pred_key]), plot_acc=True, save=True, file_postfix=subkey)"
   ]
  },
  {
   "cell_type": "raw",
   "metadata": {},
   "source": [
    "## Distribution of Error-classes over Features"
   ]
  },
  {
   "cell_type": "code",
   "execution_count": 41,
   "metadata": {
    "scrolled": false
   },
   "outputs": [
    {
     "ename": "KeyError",
     "evalue": "'group_viol_FP'",
     "output_type": "error",
     "traceback": [
      "\u001b[1;31m---------------------------------------------------------------------------\u001b[0m",
      "\u001b[1;31mKeyError\u001b[0m                                  Traceback (most recent call last)",
      "\u001b[1;32m<ipython-input-41-73beaaee5932>\u001b[0m in \u001b[0;36m<module>\u001b[1;34m\u001b[0m\n\u001b[0;32m      4\u001b[0m     \u001b[0my_val_predicted_t\u001b[0m \u001b[1;33m=\u001b[0m \u001b[1;33m[\u001b[0m\u001b[1;36m1\u001b[0m \u001b[1;32mif\u001b[0m \u001b[0mx\u001b[0m \u001b[1;33m>=\u001b[0m\u001b[1;36m.5\u001b[0m \u001b[1;32melse\u001b[0m \u001b[1;36m0\u001b[0m \u001b[1;32mfor\u001b[0m \u001b[0mx\u001b[0m \u001b[1;32min\u001b[0m \u001b[0mlist\u001b[0m\u001b[1;33m(\u001b[0m\u001b[0mtorch\u001b[0m\u001b[1;33m.\u001b[0m\u001b[0msigmoid\u001b[0m\u001b[1;33m(\u001b[0m\u001b[0mtorch\u001b[0m\u001b[1;33m.\u001b[0m\u001b[0mtensor\u001b[0m\u001b[1;33m(\u001b[0m\u001b[0my_val_predicted\u001b[0m\u001b[1;33m[\u001b[0m\u001b[0msubgroup\u001b[0m\u001b[1;33m]\u001b[0m\u001b[1;33m)\u001b[0m\u001b[1;33m)\u001b[0m\u001b[1;33m)\u001b[0m\u001b[1;33m]\u001b[0m\u001b[1;33m\u001b[0m\u001b[1;33m\u001b[0m\u001b[0m\n\u001b[0;32m      5\u001b[0m \u001b[1;32melse\u001b[0m\u001b[1;33m:\u001b[0m\u001b[1;33m\u001b[0m\u001b[1;33m\u001b[0m\u001b[0m\n\u001b[1;32m----> 6\u001b[1;33m     \u001b[0my_val_predicted_t\u001b[0m \u001b[1;33m=\u001b[0m \u001b[1;33m[\u001b[0m\u001b[1;36m1\u001b[0m \u001b[1;32mif\u001b[0m \u001b[0mx\u001b[0m \u001b[1;33m>=\u001b[0m\u001b[1;36m.5\u001b[0m \u001b[1;32melse\u001b[0m \u001b[1;36m0\u001b[0m \u001b[1;32mfor\u001b[0m \u001b[0mx\u001b[0m \u001b[1;32min\u001b[0m \u001b[0my_val_predicted\u001b[0m\u001b[1;33m[\u001b[0m\u001b[0msubgroup\u001b[0m\u001b[1;33m]\u001b[0m\u001b[1;33m]\u001b[0m\u001b[1;33m\u001b[0m\u001b[1;33m\u001b[0m\u001b[0m\n\u001b[0m\u001b[0;32m      7\u001b[0m \u001b[1;33m\u001b[0m\u001b[0m\n\u001b[0;32m      8\u001b[0m \u001b[0my_val\u001b[0m\u001b[1;33m[\u001b[0m\u001b[1;34m\"outcome\"\u001b[0m\u001b[1;33m]\u001b[0m \u001b[1;33m=\u001b[0m \u001b[0my_val\u001b[0m\u001b[1;33m[\u001b[0m\u001b[0msubgroup\u001b[0m\u001b[1;33m]\u001b[0m\u001b[1;33m-\u001b[0m\u001b[0my_val_predicted_t\u001b[0m\u001b[1;33m\u001b[0m\u001b[1;33m\u001b[0m\u001b[0m\n",
      "\u001b[1;31mKeyError\u001b[0m: 'group_viol_FP'"
     ]
    }
   ],
   "source": [
    "# At the moment only works for the last trained model\n",
    "subgroup = \"group_viol_FP\"\n",
    "if model_types[-1] == ModelType.NN:\n",
    "    y_val_predicted_t = [1 if x >=.5 else 0 for x in list(torch.sigmoid(torch.tensor(y_val_predicted[subgroup])))]\n",
    "else:\n",
    "    y_val_predicted_t = [1 if x >=.5 else 0 for x in y_val_predicted[subgroup]]\n",
    "    \n",
    "y_val[\"outcome\"] = y_val[subgroup]-y_val_predicted_t\n",
    "y_val.loc[(y_val[\"outcome\"] == 0) & (y_val[\"group_viol_FP\"] == 1), \"outcome\"] = 0.5\n",
    "y_val.loc[(y_val[\"outcome\"] == 0) & (y_val[\"group_viol_FP\"] == 0), \"outcome\"] = -0.5\n",
    "\n",
    "val2label = {\n",
    "    0.5:\"FP detected\",#\"TP\",\n",
    "    -0.5:\"TP,TN,FN detected\",#\"TN\",\n",
    "    1:\"FP not detected\",#\"FN\",\n",
    "    -1:\"TP,TN,FN not detected\"#\"FP\"\n",
    "}\n",
    "\n",
    "for col_i, col in enumerate(X_val.columns):\n",
    "    fig, axs = plt.subplots(nrows=1, ncols=1, figsize=(7,5))\n",
    "    legend = []\n",
    "    for val in y_val[\"outcome\"].unique():\n",
    "        legend.append(val2label[val])#+\"(%s)\"%subgroup)\n",
    "        X_vis_o = X_val[y_val[\"outcome\"] == val]\n",
    "        axs.hist(X_vis_o[col], alpha=0.75, density=True, bins = [0.1 * i for i in range(-10,11,2)])\n",
    "        #axs.set_yscale('log')\n",
    "        axs.set_xlabel(col)\n",
    "    axs.legend(legend)\n",
    "    plt.show()"
   ]
  },
  {
   "cell_type": "code",
   "execution_count": null,
   "metadata": {
    "scrolled": true
   },
   "outputs": [],
   "source": []
  },
  {
   "cell_type": "code",
   "execution_count": null,
   "metadata": {
    "scrolled": true
   },
   "outputs": [],
   "source": []
  },
  {
   "cell_type": "code",
   "execution_count": null,
   "metadata": {
    "scrolled": true
   },
   "outputs": [],
   "source": []
  },
  {
   "cell_type": "code",
   "execution_count": null,
   "metadata": {
    "scrolled": true
   },
   "outputs": [],
   "source": []
  },
  {
   "cell_type": "code",
   "execution_count": null,
   "metadata": {
    "scrolled": true
   },
   "outputs": [],
   "source": []
  },
  {
   "cell_type": "code",
   "execution_count": null,
   "metadata": {},
   "outputs": [],
   "source": []
  },
  {
   "cell_type": "code",
   "execution_count": null,
   "metadata": {},
   "outputs": [],
   "source": []
  },
  {
   "cell_type": "code",
   "execution_count": null,
   "metadata": {},
   "outputs": [],
   "source": []
  }
 ],
 "metadata": {
  "kernelspec": {
   "display_name": "Python 3",
   "language": "python",
   "name": "python3"
  },
  "language_info": {
   "codemirror_mode": {
    "name": "ipython",
    "version": 3
   },
   "file_extension": ".py",
   "mimetype": "text/x-python",
   "name": "python",
   "nbconvert_exporter": "python",
   "pygments_lexer": "ipython3",
   "version": "3.8.3"
  }
 },
 "nbformat": 4,
 "nbformat_minor": 4
}
